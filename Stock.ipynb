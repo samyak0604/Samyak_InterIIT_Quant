{
  "nbformat": 4,
  "nbformat_minor": 0,
  "metadata": {
    "colab": {
      "provenance": [],
      "toc_visible": true
    },
    "kernelspec": {
      "name": "python3",
      "display_name": "Python 3"
    },
    "language_info": {
      "name": "python"
    }
  },
  "cells": [
    {
      "cell_type": "code",
      "execution_count": 3,
      "metadata": {
        "id": "qwiN1Tk5H-hU"
      },
      "outputs": [],
      "source": [
        "import pandas as pd\n",
        "import numpy as np\n",
        "import matplotlib.pyplot as plt\n",
        "import yfinance as yf"
      ]
    },
    {
      "cell_type": "code",
      "source": [
        "stock1=input(\"Pls enter the stock: \")\n",
        "Start_Date=input(\"Pls enter the start_date: \")\n",
        "End_Date=input(\"Pls enter the End_Date: \")             #for long trading\n",
        "stock=yf.download(stock1,Start_Date,End_Date)\n",
        "print(stock)"
      ],
      "metadata": {
        "id": "fTY_l_IUIK0A",
        "colab": {
          "base_uri": "https://localhost:8080/"
        },
        "outputId": "091ebdbb-90c0-4b56-e405-dfcb6e9b2509"
      },
      "execution_count": 20,
      "outputs": [
        {
          "output_type": "stream",
          "name": "stdout",
          "text": [
            "Pls enter the stock: TSLA.NE\n",
            "Pls enter the start_date: 2010-01-01\n",
            "Pls enter the End_Date: 2023-01-01\n",
            "[*********************100%%**********************]  1 of 1 completed\n",
            "             Open       High        Low      Close  Adj Close   Volume\n",
            "Date                                                                  \n",
            "2021-08-11  23.16  23.160000  22.959999  22.980000  22.980000     2214\n",
            "2021-08-12  22.92  23.450001  22.820000  23.340000  23.340000     6248\n",
            "2021-08-13  23.50  23.500000  23.230000  23.309999  23.309999     2123\n",
            "2021-08-16  22.92  22.920000  22.070000  22.190001  22.190001     9687\n",
            "2021-08-17  21.84  21.889999  21.150000  21.620001  21.620001    16115\n",
            "...           ...        ...        ...        ...        ...      ...\n",
            "2022-12-22  12.94  12.960000  11.580000  11.890000  11.890000   849865\n",
            "2022-12-23  12.00  12.220000  11.470000  11.630000  11.630000   599020\n",
            "2022-12-28  10.85  11.040000  10.300000  10.720000  10.720000   988231\n",
            "2022-12-29  11.36  11.690000  11.130000  11.600000  11.600000  1050885\n",
            "2022-12-30  11.40  11.770000  11.400000  11.680000  11.680000   482423\n",
            "\n",
            "[349 rows x 6 columns]\n"
          ]
        }
      ]
    },
    {
      "cell_type": "code",
      "source": [
        "!pip install iexfinance\n",
        "\n"
      ],
      "metadata": {
        "colab": {
          "base_uri": "https://localhost:8080/"
        },
        "id": "9IBEfujLb9ne",
        "outputId": "e84ed43b-e78e-4c40-da26-2ff21c0d0290"
      },
      "execution_count": 14,
      "outputs": [
        {
          "output_type": "stream",
          "name": "stdout",
          "text": [
            "Collecting iexfinance\n",
            "  Downloading iexfinance-0.5.0-py3-none-any.whl (54 kB)\n",
            "\u001b[2K     \u001b[90m━━━━━━━━━━━━━━━━━━━━━━━━━━━━━━━━━━━━━━━━\u001b[0m \u001b[32m54.3/54.3 kB\u001b[0m \u001b[31m1.5 MB/s\u001b[0m eta \u001b[36m0:00:00\u001b[0m\n",
            "\u001b[?25hRequirement already satisfied: pandas in /usr/local/lib/python3.10/dist-packages (from iexfinance) (1.5.3)\n",
            "Requirement already satisfied: requests in /usr/local/lib/python3.10/dist-packages (from iexfinance) (2.31.0)\n",
            "Requirement already satisfied: python-dateutil>=2.8.1 in /usr/local/lib/python3.10/dist-packages (from pandas->iexfinance) (2.8.2)\n",
            "Requirement already satisfied: pytz>=2020.1 in /usr/local/lib/python3.10/dist-packages (from pandas->iexfinance) (2023.3)\n",
            "Requirement already satisfied: numpy>=1.21.0 in /usr/local/lib/python3.10/dist-packages (from pandas->iexfinance) (1.23.5)\n",
            "Requirement already satisfied: charset-normalizer<4,>=2 in /usr/local/lib/python3.10/dist-packages (from requests->iexfinance) (3.2.0)\n",
            "Requirement already satisfied: idna<4,>=2.5 in /usr/local/lib/python3.10/dist-packages (from requests->iexfinance) (3.4)\n",
            "Requirement already satisfied: urllib3<3,>=1.21.1 in /usr/local/lib/python3.10/dist-packages (from requests->iexfinance) (2.0.4)\n",
            "Requirement already satisfied: certifi>=2017.4.17 in /usr/local/lib/python3.10/dist-packages (from requests->iexfinance) (2023.7.22)\n",
            "Requirement already satisfied: six>=1.5 in /usr/local/lib/python3.10/dist-packages (from python-dateutil>=2.8.1->pandas->iexfinance) (1.16.0)\n",
            "Installing collected packages: iexfinance\n",
            "Successfully installed iexfinance-0.5.0\n"
          ]
        }
      ]
    },
    {
      "cell_type": "code",
      "source": [
        "from iexfinance.stocks import get_historical_intraday\n",
        "from datetime import datetime\n",
        "\n",
        "# Replace with your IEX Cloud API token\n",
        "api_token = \"pk_f7e041639bea4da4b22892ff0d2d4ff4\"\n",
        "\n",
        "# Define the stock symbol\n",
        "symbol= input(\"Enter the ticker of the stock you want data for\")\n",
        "\n",
        "# Define the date for which you want to retrieve intraday data\n",
        "selected_date = datetime(2023, 8, 18)\n",
        "\n",
        "# Retrieve intraday data at a one-second interval\n",
        "intraday_data = get_historical_intraday(symbol, selected_date, output_format='pandas', token=api_token)\n",
        "\n",
        "# Print the retrieved intraday data\n",
        "print(intraday_data)\n",
        "\n",
        "\n"
      ],
      "metadata": {
        "colab": {
          "base_uri": "https://localhost:8080/"
        },
        "id": "9WYyzFKTaxYt",
        "outputId": "554bb4e3-b9dc-49be-90e5-cd324843f681"
      },
      "execution_count": 19,
      "outputs": [
        {
          "output_type": "stream",
          "name": "stdout",
          "text": [
            "Enter the ticker of the stock you want data forAAPL\n",
            "                     marketHigh  marketLow  marketAverage  marketVolume  \\\n",
            "2023-08-18 09:30:00    173.0900   171.9600         172.56       4920625   \n",
            "2023-08-18 09:31:00    173.2000   172.7189         173.03        239820   \n",
            "2023-08-18 09:32:00    173.2100   173.0300         173.13        233312   \n",
            "2023-08-18 09:33:00    173.3500   173.1300         173.24        242006   \n",
            "2023-08-18 09:34:00    173.2100   172.8600         173.02        212393   \n",
            "...                         ...        ...            ...           ...   \n",
            "2023-08-18 15:56:00    174.5966   174.4100         174.50        238777   \n",
            "2023-08-18 15:57:00    174.5000   174.4000         174.46        244576   \n",
            "2023-08-18 15:58:00    174.4900   174.3121         174.39        453086   \n",
            "2023-08-18 15:59:00    174.5500   174.1500         174.33       1204051   \n",
            "2023-08-18 16:00:00    174.6100   174.4300         174.50      17639351   \n",
            "\n",
            "                     marketNotional  marketNumberOfTrades  marketOpen  \\\n",
            "2023-08-18 09:30:00    8.468278e+08                 14289     172.300   \n",
            "2023-08-18 09:31:00    4.149362e+07                  3155     172.960   \n",
            "2023-08-18 09:32:00    4.039447e+07                  3061     173.140   \n",
            "2023-08-18 09:33:00    4.192516e+07                  2853     173.190   \n",
            "2023-08-18 09:34:00    3.674821e+07                  2937     173.185   \n",
            "...                             ...                   ...         ...   \n",
            "2023-08-18 15:56:00    4.166721e+07                  2572     174.570   \n",
            "2023-08-18 15:57:00    4.266939e+07                  2589     174.495   \n",
            "2023-08-18 15:58:00    7.901131e+07                  3990     174.490   \n",
            "2023-08-18 15:59:00    2.098929e+08                  8526     174.380   \n",
            "2023-08-18 16:00:00    3.077891e+09                   285     174.500   \n",
            "\n",
            "                     marketClose        date symbol  ...      low  average  \\\n",
            "2023-08-18 09:30:00     172.9450  2023-08-18   AAPL  ...  171.970  172.020   \n",
            "2023-08-18 09:31:00     173.1550  2023-08-18   AAPL  ...  171.970  172.725   \n",
            "2023-08-18 09:32:00     173.1800  2023-08-18   AAPL  ...  173.085  173.141   \n",
            "2023-08-18 09:33:00     173.1604  2023-08-18   AAPL  ...  173.220  173.261   \n",
            "2023-08-18 09:34:00     172.8901  2023-08-18   AAPL  ...      NaN      NaN   \n",
            "...                          ...         ...    ...  ...      ...      ...   \n",
            "2023-08-18 15:56:00     174.4900  2023-08-18   AAPL  ...      NaN      NaN   \n",
            "2023-08-18 15:57:00     174.4907  2023-08-18   AAPL  ...  174.415  174.506   \n",
            "2023-08-18 15:58:00     174.3850  2023-08-18   AAPL  ...  174.415  174.467   \n",
            "2023-08-18 15:59:00     174.4900  2023-08-18   AAPL  ...  174.170  174.319   \n",
            "2023-08-18 16:00:00     174.6000  2023-08-18   AAPL  ...      NaN      NaN   \n",
            "\n",
            "                      notional     open    close   volume  numberOfTrades  \\\n",
            "2023-08-18 09:30:00   172020.0  171.970  172.120   1000.0            10.0   \n",
            "2023-08-18 09:31:00  2020886.0  171.970  172.990  11700.0            93.0   \n",
            "2023-08-18 09:32:00   311654.5  173.130  173.160   1800.0            16.0   \n",
            "2023-08-18 09:33:00   207913.5  173.220  173.230   1200.0            12.0   \n",
            "2023-08-18 09:34:00        NaN      NaN      NaN      NaN             NaN   \n",
            "...                        ...      ...      ...      ...             ...   \n",
            "2023-08-18 15:56:00        NaN      NaN      NaN      NaN             NaN   \n",
            "2023-08-18 15:57:00   924883.5  174.515  174.485   5300.0            37.0   \n",
            "2023-08-18 15:58:00  1709775.0  174.480  174.490   9800.0            60.0   \n",
            "2023-08-18 15:59:00  3486378.0  174.355  174.510  20000.0           130.0   \n",
            "2023-08-18 16:00:00        NaN      NaN      NaN      NaN             NaN   \n",
            "\n",
            "                        label  changeOverTime marketChangeOverTime  \n",
            "2023-08-18 09:30:00  09:30 AM            None            -0.004844  \n",
            "2023-08-18 09:31:00  09:31 AM            None            -0.002134  \n",
            "2023-08-18 09:32:00  09:32 AM            None            -0.001557  \n",
            "2023-08-18 09:33:00  09:33 AM            None            -0.000923  \n",
            "2023-08-18 09:34:00  09:34 AM            None            -0.002191  \n",
            "...                       ...             ...                  ...  \n",
            "2023-08-18 15:56:00  03:56 PM            None             0.006344  \n",
            "2023-08-18 15:57:00  03:57 PM            None             0.006113  \n",
            "2023-08-18 15:58:00  03:58 PM            None             0.005709  \n",
            "2023-08-18 15:59:00  03:59 PM            None             0.005363  \n",
            "2023-08-18 16:00:00  04:00 PM            None             0.006344  \n",
            "\n",
            "[391 rows x 22 columns]\n"
          ]
        }
      ]
    }
  ]
}